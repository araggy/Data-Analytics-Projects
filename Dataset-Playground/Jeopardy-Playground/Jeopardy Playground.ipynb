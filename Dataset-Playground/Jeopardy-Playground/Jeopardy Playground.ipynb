{
 "cells": [
  {
   "cell_type": "markdown",
   "id": "3f63c4f5",
   "metadata": {},
   "source": [
    "# Jeopardy Playground\n",
    "## By: Kevin\n",
    "\n",
    "Welcome! This is a fun little project using both Python and Pandas to explore a data set called *'jeopardy.csv'* This data set spans across 3 decades (1984-2012) and contains episode numbers, show dates, categories, questions, answers, and their associated values for the popular quiz show *Jeopardy.* I decided to explore this data set further because of its captivating intrigue. The data set is full of interesting things to discover and play around with!\n",
    "\n",
    "\n",
    "Let's start by first setting up our environment, importing the *.csv* file, and inspecting it."
   ]
  },
  {
   "cell_type": "code",
   "execution_count": 1,
   "id": "2bff05a2",
   "metadata": {},
   "outputs": [
    {
     "name": "stdout",
     "output_type": "stream",
     "text": [
      "Index(['Show Number', ' Air Date', ' Round', ' Category', ' Value',\n",
      "       ' Question', ' Answer'],\n",
      "      dtype='object')\n",
      "   Show Number    Air Date      Round                         Category  Value  \\\n",
      "0         4680  2004-12-31  Jeopardy!                          HISTORY   $200   \n",
      "1         4680  2004-12-31  Jeopardy!  ESPN's TOP 10 ALL-TIME ATHLETES   $200   \n",
      "2         4680  2004-12-31  Jeopardy!      EVERYBODY TALKS ABOUT IT...   $200   \n",
      "3         4680  2004-12-31  Jeopardy!                 THE COMPANY LINE   $200   \n",
      "4         4680  2004-12-31  Jeopardy!              EPITAPHS & TRIBUTES   $200   \n",
      "\n",
      "                                                                                                      Question  \\\n",
      "0             For the last 8 years of his life, Galileo was under house arrest for espousing this man's theory   \n",
      "1  No. 2: 1912 Olympian; football star at Carlisle Indian School; 6 MLB seasons with the Reds, Giants & Braves   \n",
      "2                     The city of Yuma in this state has a record average of 4,055 hours of sunshine each year   \n",
      "3                         In 1963, live on \"The Art Linkletter Show\", this company served its billionth burger   \n",
      "4     Signer of the Dec. of Indep., framer of the Constitution of Mass., second President of the United States   \n",
      "\n",
      "       Answer  \n",
      "0  Copernicus  \n",
      "1  Jim Thorpe  \n",
      "2     Arizona  \n",
      "3  McDonald's  \n",
      "4  John Adams  \n"
     ]
    }
   ],
   "source": [
    "import random as rndm # We'll use this later for our little Jeopardy game.\n",
    "import pandas as pd\n",
    "# The statement below allows the output to not be cut off which is essentially for seeing the entire question.\n",
    "pd.set_option(\"display.max_colwidth\", None)\n",
    "\n",
    "jeopardy = pd.read_csv(\"jeopardy.csv\")\n",
    "\n",
    "print(jeopardy.columns)\n",
    "print(jeopardy.head(5))"
   ]
  },
  {
   "cell_type": "markdown",
   "id": "d2148057",
   "metadata": {},
   "source": [
    "The column names have some unnecessary whitespace within them, so we'll have to rename them to make it easier on ourselves. We can use the method below to rename the columns without needing to create a new variable so long as we keep the list in the same order as the data set's columns."
   ]
  },
  {
   "cell_type": "code",
   "execution_count": 2,
   "id": "b34d5849",
   "metadata": {},
   "outputs": [
    {
     "name": "stdout",
     "output_type": "stream",
     "text": [
      "Index(['show_number', 'air_date', 'round', 'category', 'value', 'question',\n",
      "       'answer'],\n",
      "      dtype='object')\n"
     ]
    }
   ],
   "source": [
    "jeopardy.columns = [\"show_number\", \"air_date\", \"round\", \"category\", \"value\", \"question\", \"answer\"]\n",
    "print(jeopardy.columns)"
   ]
  },
  {
   "cell_type": "markdown",
   "id": "a100618f",
   "metadata": {},
   "source": [
    "Great! Let's take a look at how much data we're working with."
   ]
  },
  {
   "cell_type": "code",
   "execution_count": 3,
   "id": "1963de3b",
   "metadata": {},
   "outputs": [
    {
     "name": "stdout",
     "output_type": "stream",
     "text": [
      "216930\n"
     ]
    }
   ],
   "source": [
    "print(len(jeopardy))"
   ]
  },
  {
   "cell_type": "markdown",
   "id": "9653cb40",
   "metadata": {},
   "source": [
    "This data set contains 216,930 rows of data! It's quite a considerable size. Typically in Jeopardy, questions are organized into categories. Each question does indeed have an associated category that pertains to it. Let's create a variable to store each instance of a category! We'll use this later."
   ]
  },
  {
   "cell_type": "code",
   "execution_count": 4,
   "id": "29244681",
   "metadata": {},
   "outputs": [
    {
     "name": "stdout",
     "output_type": "stream",
     "text": [
      "27995\n"
     ]
    }
   ],
   "source": [
    "jeopardy_categories = jeopardy.category.unique()\n",
    "\n",
    "print(len(jeopardy_categories))"
   ]
  },
  {
   "cell_type": "markdown",
   "id": "0539d664",
   "metadata": {},
   "source": [
    "There are 27,995 categories with 216,930 questions spread across each of these categories! That's nearly 8 times as many questions as there are categories! With a data set as large as this, it would be useful if you could impose more filters to the questions aside from the category. We could implement basic search functionality to look for questions that match our specified words. We'll create a function, so we can reuse it as much as we'd like."
   ]
  },
  {
   "cell_type": "code",
   "execution_count": 5,
   "id": "ac702be1",
   "metadata": {},
   "outputs": [
    {
     "name": "stdout",
     "output_type": "stream",
     "text": [
      "        show_number    air_date             round                 category  \\\n",
      "8457           6135  2011-04-22  Double Jeopardy!          FATHER'S IN LAW   \n",
      "22796          4465  2004-01-23         Jeopardy!              U.S. CITIES   \n",
      "31491          4546  2004-05-17  Double Jeopardy!            EARLY AMERICA   \n",
      "50558          5089  2006-10-26  Double Jeopardy!          COLLEGE COLLAGE   \n",
      "84717          5143  2007-01-10         Jeopardy!           MARINE BIOLOGY   \n",
      "142558         2669  1996-03-21  Double Jeopardy!                 MEDICINE   \n",
      "152072         1651  1991-11-04  Double Jeopardy!        RELIGIOUS LEADERS   \n",
      "172053         2826  1996-12-09  Double Jeopardy!  COLLEGES & UNIVERSITIES   \n",
      "196404         2958  1997-06-11  Double Jeopardy!  COLLEGES & UNIVERSITIES   \n",
      "214691         5619  2009-01-29         Jeopardy!       AMERICAN EDUCATION   \n",
      "\n",
      "        value  \\\n",
      "8457     $400   \n",
      "22796    $400   \n",
      "31491    $400   \n",
      "50558   $2000   \n",
      "84717   $1000   \n",
      "142558   $800   \n",
      "152072   $400   \n",
      "172053   $800   \n",
      "196404   $500   \n",
      "214691  $1000   \n",
      "\n",
      "                                                                                                                     question  \\\n",
      "8457               Father was quite the cutup in Prof. Charles Fried's class at this Massachusetts law school founded in 1817   \n",
      "22796                                       This Kentucky city was founded in 1775 & named for a battle site in Massachusetts   \n",
      "31491                 Harvard College was founded at Newtowne, Massachusetts in 1636; 2 years later the town was renamed this   \n",
      "50558                                                    This South Hadley, Massachusetts women's college was founded in 1837   \n",
      "84717   This Massachusetts village is home to the Marine Biological Laboratory & an oceanographic institution founded in 1930   \n",
      "142558                                          This medical magazine published in Waltham, Massachusetts was founded in 1812   \n",
      "152072                             In 1881 she founded the Massachusetts Metaphysical College, a school for Christian Science   \n",
      "172053                          In the 1850s this Massachusetts educator founded Antioch College & became its first president   \n",
      "196404                  The Robert Frost Library is at this Massachusetts college co-founded by Emily Dickinson's grandfather   \n",
      "214691                            In 1838 this Massachusetts educator founded the biweekly Common School Journal for teachers   \n",
      "\n",
      "                                     answer  \n",
      "8457                                Harvard  \n",
      "22796                             Lexington  \n",
      "31491                             Cambridge  \n",
      "50558                         Mount Holyoke  \n",
      "84717                            Woods Hole  \n",
      "142558  The New England Journal of Medicine  \n",
      "152072                      Mary Baker Eddy  \n",
      "172053                          Horace Mann  \n",
      "196404                              Amherst  \n",
      "214691                          Horace Mann  \n"
     ]
    }
   ],
   "source": [
    "def search_questions(terms):\n",
    "    query = lambda x: all(word.lower() in x.lower() for word in terms)\n",
    "    return jeopardy.loc[jeopardy.question.apply(query)]\n",
    "\n",
    "query1 = search_questions([\"Massachusetts\", \"founded\"])\n",
    "print(query1)"
   ]
  },
  {
   "cell_type": "markdown",
   "id": "595a2607",
   "metadata": {},
   "source": [
    "Each question has a different value associated with it. The different values can be associated with how difficult the particular question is with higher values meaning higher difficulty. It would be useful to see the average value of your search query to get a sense of how difficult and rewarding it may be. Since we'll be working with numbers to accomplish this, we should first check if the data is in the format we need."
   ]
  },
  {
   "cell_type": "code",
   "execution_count": 6,
   "id": "a2f58e4e",
   "metadata": {},
   "outputs": [
    {
     "name": "stdout",
     "output_type": "stream",
     "text": [
      "<class 'str'>\n"
     ]
    }
   ],
   "source": [
    "print(type(jeopardy.value[0]))"
   ]
  },
  {
   "cell_type": "markdown",
   "id": "795fb216",
   "metadata": {},
   "source": [
    "The code above checked the type of the first value within our DataFrame and it returned as type string. The values are formatted with '$' signs as well as commas. We need to remove these elements before we cast it to another type. There are also some values with an entry of 'None' because these are associated with the 'Final Jeopardy' round, and we'll need to account for this as well."
   ]
  },
  {
   "cell_type": "code",
   "execution_count": 7,
   "id": "13df19de",
   "metadata": {},
   "outputs": [
    {
     "name": "stdout",
     "output_type": "stream",
     "text": [
      "   show_number    air_date      round                         category value  \\\n",
      "0         4680  2004-12-31  Jeopardy!                          HISTORY  $200   \n",
      "1         4680  2004-12-31  Jeopardy!  ESPN's TOP 10 ALL-TIME ATHLETES  $200   \n",
      "2         4680  2004-12-31  Jeopardy!      EVERYBODY TALKS ABOUT IT...  $200   \n",
      "3         4680  2004-12-31  Jeopardy!                 THE COMPANY LINE  $200   \n",
      "4         4680  2004-12-31  Jeopardy!              EPITAPHS & TRIBUTES  $200   \n",
      "\n",
      "                                                                                                      question  \\\n",
      "0             For the last 8 years of his life, Galileo was under house arrest for espousing this man's theory   \n",
      "1  No. 2: 1912 Olympian; football star at Carlisle Indian School; 6 MLB seasons with the Reds, Giants & Braves   \n",
      "2                     The city of Yuma in this state has a record average of 4,055 hours of sunshine each year   \n",
      "3                         In 1963, live on \"The Art Linkletter Show\", this company served its billionth burger   \n",
      "4     Signer of the Dec. of Indep., framer of the Constitution of Mass., second President of the United States   \n",
      "\n",
      "       answer  float_value  \n",
      "0  Copernicus        200.0  \n",
      "1  Jim Thorpe        200.0  \n",
      "2     Arizona        200.0  \n",
      "3  McDonald's        200.0  \n",
      "4  John Adams        200.0  \n"
     ]
    }
   ],
   "source": [
    "# The lambda function belows skips the leading '$' sign, retrieves the first digit and then removes\n",
    "# the comma within and replaces it with nothing leading to a proper format before we convert it into a floating-point number.\n",
    "# If the value is \"None\" then it is replaced with 0.\n",
    "formatter = lambda num: float(num[1:].replace(',', '')) if num != \"None\" else 0\n",
    "jeopardy[\"float_value\"] = jeopardy.value.apply(formatter)\n",
    "\n",
    "print(jeopardy.head(5))"
   ]
  },
  {
   "cell_type": "markdown",
   "id": "cf9c3088",
   "metadata": {},
   "source": [
    "We created a new column named 'float_value' to insert our converted values into. It's best if we try not to directly modify the data itself, but rather transform it in a way that suits our needs. Let's calculate the average value of our previous query!"
   ]
  },
  {
   "cell_type": "code",
   "execution_count": 8,
   "id": "4413d9c2",
   "metadata": {},
   "outputs": [
    {
     "name": "stdout",
     "output_type": "stream",
     "text": [
      "770.0\n"
     ]
    }
   ],
   "source": [
    "query1 = search_questions([\"Massachusetts\", \"founded\"])\n",
    "print(query1.float_value.mean())"
   ]
  },
  {
   "cell_type": "markdown",
   "id": "4eb538ef",
   "metadata": {},
   "source": [
    "We made some pretty cool things so far. Now, let's create a way for us to play *Jeopardy* ourselves!"
   ]
  },
  {
   "cell_type": "code",
   "execution_count": 9,
   "id": "54d3803d",
   "metadata": {},
   "outputs": [
    {
     "name": "stdout",
     "output_type": "stream",
     "text": [
      "Welcome to round 1 of Jeopardy!\n",
      "(<a href=\"http://www.j-archive.com/media/2007-05-09_J_13.jpg\" target=\"_blank\">I'm Pete Carroll, head football coach at USC.</a>) Our 2 national titles at USC are still 4 short of this \"animal\" of an Alabama head coach, but we're working on that ($600.0)\n",
      "A: McLean Stevenson\n",
      "B: Arabian\n",
      "C: Annette Bening\n",
      "D: Bear Bryant\n",
      "What's the correct answer? Type 'A', 'B', 'C', or 'D': D\n",
      "Correct! You earned $600.0\n",
      "\n",
      "Welcome to round 2 of Jeopardy!\n",
      "All values are doubled!\n",
      "The remains of a 3.2 million-year-old hominid, discovered in 1974, were nicknamed this, after a Beatles song ($1600.0)\n",
      "A: Excalibur\n",
      "B: Chris Farley\n",
      "C: \"O Captain!  My Captain! America\"\n",
      "D: Lucy\n",
      "What's the correct answer? Type 'A', 'B', 'C', or 'D': A\n",
      "Incorrect. You walk away with $600.0\n"
     ]
    }
   ],
   "source": [
    "class PlayJeopardy:\n",
    "    \"\"\"Simulates three rounds of a quiz game in which there are four total answer choices\n",
    "    and the player must guess the correct answer. The incorrect answers are pulled randomly\n",
    "    from the data, so difficult can vary due to contextual information or relationships between the question and answers.\n",
    "    \n",
    "    TODO: I would like to further expand the class and implement a method where the player can choose a category\n",
    "    that they would like their question to be based on.\"\"\"\n",
    "    \n",
    "    # Three variables that contain questions, answers, and values based on the Jeopardy round.\n",
    "    round1 = jeopardy[[\"question\", \"answer\", \"float_value\"]] [jeopardy[\"round\"] == \"Jeopardy!\"]\n",
    "    round2 = jeopardy[[\"question\", \"answer\", \"float_value\"]] [jeopardy[\"round\"] == \"Double Jeopardy!\"]\n",
    "    round3 = jeopardy[[\"question\", \"answer\", \"float_value\"]] [jeopardy[\"round\"] == \"Final Jeopardy!\"]\n",
    "    \n",
    "    def generate_answers(self, current_round, correct_answer):\n",
    "        abcd = rndm.randint(0, 3)\n",
    "        answers = []\n",
    "            \n",
    "        for i in range(4):\n",
    "            # Correct answer is at index 0 or choice A\n",
    "            if abcd == 0:\n",
    "                if i == 0:\n",
    "                    answers.append(correct_answer)\n",
    "                    continue\n",
    "                incorrect_answer = current_round['answer'].iloc[rndm.randint(0, len(current_round.answer))]\n",
    "                # Check for answer duplicates and if any, generate new incorrect answer\n",
    "                while incorrect_answer == answers[i - 1] or incorrect_answer == correct_answer:\n",
    "                    incorrect_answer = current_round['answer'].iloc[rndm.randint(0, len(current_round.answer))]\n",
    "                answers.append(incorrect_answer)\n",
    "                \n",
    "            # Correct answer is at index 1 or choice B\n",
    "            elif abcd == 1:\n",
    "                if i == 1:\n",
    "                    answers.append(correct_answer)\n",
    "                    continue\n",
    "                incorrect_answer = current_round['answer'].iloc[rndm.randint(0, len(current_round.answer))]\n",
    "                # Check if incorrect answers are the same as correct answer\n",
    "                while incorrect_answer == correct_answer:\n",
    "                    incorrect_answer = current_round['answer'].iloc[rndm.randint(0, len(current_round.answer))]\n",
    "                if i >= 2:\n",
    "                    # Check for incorrect answer duplicates\n",
    "                    while incorrect_answer == answers[i - 1]:\n",
    "                        incorrect_answer = current_round['answer'].iloc[rndm.randint(0, len(current_round.answer))]\n",
    "                answers.append(incorrect_answer)\n",
    "            \n",
    "            # Correct answer is at index 2 or choice C\n",
    "            elif abcd == 2:\n",
    "                if i == 2:\n",
    "                    answers.append(correct_answer)\n",
    "                    continue\n",
    "                incorrect_answer = current_round['answer'].iloc[rndm.randint(0, len(current_round.answer))]\n",
    "                while incorrect_answer == correct_answer:\n",
    "                    incorrect_answer = current_round['answer'].iloc[rndm.randint(0, len(current_round.answer))]\n",
    "                if i >= 1:\n",
    "                    while incorrect_answer == answers[i - 1]:\n",
    "                        incorrect_answer = current_round['answer'].iloc[rndm.randint(0, len(current_round.answer))]\n",
    "                answers.append(incorrect_answer)\n",
    "            \n",
    "            # Correct answer is at index 3 or choice D\n",
    "            else:\n",
    "                if i == 3:\n",
    "                    answers.append(correct_answer)\n",
    "                    continue\n",
    "                incorrect_answer = current_round['answer'].iloc[rndm.randint(0, len(current_round.answer))]\n",
    "                while incorrect_answer == correct_answer:\n",
    "                    incorrect_answer = current_round['answer'].iloc[rndm.randint(0, len(current_round.answer))]\n",
    "                if i >= 1:\n",
    "                    while incorrect_answer == answers[i - 1]:\n",
    "                        incorrect_answer = current_round['answer'].iloc[rndm.randint(0, len(current_round.answer))]\n",
    "                answers.append(incorrect_answer)\n",
    "                    \n",
    "                \n",
    "        print(\"A: \" + answers[0] + \"\\nB: \" + answers[1] + \"\\nC: \" + answers[2] + \"\\nD: \" + answers[3])\n",
    "        return str(abcd)\n",
    "        \n",
    "    \n",
    "    def start_game(self):\n",
    "        current_round = 1\n",
    "        current_earnings = 0.0\n",
    "        in_game = True\n",
    "        \n",
    "        while in_game:\n",
    "            if current_round == 1:\n",
    "                print(\"Welcome to round 1 of Jeopardy!\")\n",
    "                # Randomly select the first question and its associated data\n",
    "                round_details = self.round1.iloc[rndm.randint(0, len(self.round1)-1)]\n",
    "                question = round_details.question\n",
    "                answer = round_details.answer\n",
    "                value = round_details.float_value\n",
    "                print(question + \" (${})\".format(str(value)))\n",
    "\n",
    "                # Generate answer choices, output to user, and save correct choice\n",
    "                correct_choice = self.generate_answers(self.round1, answer)\n",
    "                \n",
    "            elif current_round == 2:\n",
    "                print(\"Welcome to round 2 of Jeopardy!\\nAll values are doubled!\")\n",
    "                round_details = self.round2.iloc[rndm.randint(0, len(self.round2)-1)]\n",
    "                question = round_details.question\n",
    "                answer = round_details.answer\n",
    "                value = round_details.float_value\n",
    "                print(question + \" (${})\".format(str(value)))\n",
    "                \n",
    "                correct_choice = self.generate_answers(self.round2, answer)\n",
    "            \n",
    "            else:\n",
    "                print(\"Welcome to round 3 of Jeopardy!\")\n",
    "                print(\"This will be your final question.\")\n",
    "                print(\"If answered correctly, its value will be triple your current earnings!\")\n",
    "                round_details = self.round3.iloc[rndm.randint(0, len(self.round3)-1)]\n",
    "                question = round_details.question\n",
    "                answer = round_details.answer\n",
    "                value = current_earnings\n",
    "                print(question + \" (${})\".format(str(value * 3)))\n",
    "                \n",
    "                correct_choice = self.generate_answers(self.round3, answer)\n",
    "                \n",
    "        \n",
    "            # Get player answer\n",
    "            player_answer = input(\"What's the correct answer? Type 'A', 'B', 'C', or 'D': \").upper()\n",
    "            \n",
    "            # Check for incorrect input and prompt to try again\n",
    "            checkInput = \"ABCD\"\n",
    "            while not player_answer in checkInput:\n",
    "                print(\"Incorrect choice. Please try again.\")\n",
    "                player_answer = input(\"What's the correct answer? Type 'A', 'B', 'C', or 'D': \").upper()\n",
    "\n",
    "            # Replaces the player's answer with the corresponding index to determine the correct answer\n",
    "            # If no instance of a letter is found in the player's answer then nothing happens which allows for this functionality\n",
    "            player_answer = player_answer.replace(\"A\", \"0\")\n",
    "            player_answer = player_answer.replace(\"B\", \"1\")\n",
    "            player_answer = player_answer.replace(\"C\", \"2\")\n",
    "            player_answer = player_answer.replace(\"D\", \"3\")\n",
    "\n",
    "            # Check if player answered correctly\n",
    "            if player_answer == correct_choice:\n",
    "                match current_round:\n",
    "                    case 1:\n",
    "                        current_earnings += value\n",
    "                        current_round += 1\n",
    "                        print(\"Correct! You earned $\" + str(value) + \"\\n\")\n",
    "                    case 2:\n",
    "                        current_earnings += value * 2\n",
    "                        current_round += 1\n",
    "                        print(\"Correct! You earned $\" + str(value*2) + \"\\n\")\n",
    "                    case 3:\n",
    "                        current_earnings += current_earnings * 3\n",
    "                        print(\"Correct!\\nCongratulations! You've tripled your earnings!\")\n",
    "                        print(\"You walked away with ${}\".format(str(current_earnings)))\n",
    "                        in_game = False\n",
    "                \n",
    "            else:\n",
    "                print(\"Incorrect. You walk away with $\" + str(current_earnings))\n",
    "                in_game = False\n",
    "        \n",
    "play_jeopardy = PlayJeopardy()\n",
    "play_jeopardy.start_game()"
   ]
  },
  {
   "cell_type": "markdown",
   "id": "14bd5d1d",
   "metadata": {},
   "source": [
    "# Conclusion\n",
    "\n",
    "This data set is a lot of fun to work with as you can see. It's very rich and the possibilities that you can create with it are seemingly endless. I hope you enjoyed going through this notebook as much as I did. I'll be coming back and updating the notebook as I find the time to do so. Please, if you have any suggestions, criticisms, or feedback of any kind, let me hear it! I'm always looking to improve and I would love to hear what you think! Thanks for viewing my notebook!"
   ]
  }
 ],
 "metadata": {
  "kernelspec": {
   "display_name": "Python 3 (ipykernel)",
   "language": "python",
   "name": "python3"
  },
  "language_info": {
   "codemirror_mode": {
    "name": "ipython",
    "version": 3
   },
   "file_extension": ".py",
   "mimetype": "text/x-python",
   "name": "python",
   "nbconvert_exporter": "python",
   "pygments_lexer": "ipython3",
   "version": "3.11.4"
  }
 },
 "nbformat": 4,
 "nbformat_minor": 5
}
