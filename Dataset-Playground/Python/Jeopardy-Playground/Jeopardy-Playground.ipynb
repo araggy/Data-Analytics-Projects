{
 "cells": [
  {
   "cell_type": "markdown",
   "metadata": {},
   "source": [
    "# Jeopardy Playground\n",
    "\n",
    "Welcome! This is a fun little project using both Python and Pandas to explore a data set called *'jeopardy.csv'* This data set spans across 3 decades (1984-2012) and contains episode numbers, show dates, categories, questions, answers, and their associated values for the popular quiz show *Jeopardy.* I decided to explore this data set further because of its captivating intrigue. The data set is full of interesting things to discover and play around with!\n",
    "\n",
    "Find the data set here: https://www.kaggle.com/datasets/tunguz/200000-jeopardy-questions\n",
    "\n",
    "\n",
    "Let's start by first setting up our environment, importing the *.csv* file, and inspecting it."
   ]
  },
  {
   "cell_type": "code",
   "execution_count": 1,
   "metadata": {
    "execution": {
     "iopub.execute_input": "2023-09-10T21:54:24.851446Z",
     "iopub.status.busy": "2023-09-10T21:54:24.850630Z",
     "iopub.status.idle": "2023-09-10T21:54:26.929312Z",
     "shell.execute_reply": "2023-09-10T21:54:26.927975Z",
     "shell.execute_reply.started": "2023-09-10T21:54:24.851399Z"
    }
   },
   "outputs": [
    {
     "name": "stdout",
     "output_type": "stream",
     "text": [
      "Index(['Show Number', ' Air Date', ' Round', ' Category', ' Value',\n",
      "       ' Question', ' Answer'],\n",
      "      dtype='object')\n",
      "   Show Number    Air Date      Round                         Category  Value  \\\n",
      "0         4680  2004-12-31  Jeopardy!                          HISTORY   $200   \n",
      "1         4680  2004-12-31  Jeopardy!  ESPN's TOP 10 ALL-TIME ATHLETES   $200   \n",
      "2         4680  2004-12-31  Jeopardy!      EVERYBODY TALKS ABOUT IT...   $200   \n",
      "3         4680  2004-12-31  Jeopardy!                 THE COMPANY LINE   $200   \n",
      "4         4680  2004-12-31  Jeopardy!              EPITAPHS & TRIBUTES   $200   \n",
      "\n",
      "                                                                                                      Question  \\\n",
      "0             For the last 8 years of his life, Galileo was under house arrest for espousing this man's theory   \n",
      "1  No. 2: 1912 Olympian; football star at Carlisle Indian School; 6 MLB seasons with the Reds, Giants & Braves   \n",
      "2                     The city of Yuma in this state has a record average of 4,055 hours of sunshine each year   \n",
      "3                         In 1963, live on \"The Art Linkletter Show\", this company served its billionth burger   \n",
      "4     Signer of the Dec. of Indep., framer of the Constitution of Mass., second President of the United States   \n",
      "\n",
      "       Answer  \n",
      "0  Copernicus  \n",
      "1  Jim Thorpe  \n",
      "2     Arizona  \n",
      "3  McDonald's  \n",
      "4  John Adams  \n"
     ]
    }
   ],
   "source": [
    "import random as rndm # We'll use this later for our little Jeopardy game.\n",
    "import pandas as pd\n",
    "# The statement below allows the output to not be cut off which is essentially for seeing the entire question.\n",
    "pd.set_option(\"display.max_colwidth\", None)\n",
    "\n",
    "jeopardy = pd.read_csv(\"/kaggle/input/200000-jeopardy-questions/JEOPARDY_CSV.csv\")\n",
    "\n",
    "print(jeopardy.columns)\n",
    "print(jeopardy.head(5))"
   ]
  },
  {
   "cell_type": "markdown",
   "metadata": {},
   "source": [
    "The column names have some unnecessary whitespace within them, so we'll have to rename them to make it easier on ourselves. We can use the method below to rename the columns without needing to create a new variable so long as we keep the list in the same order as the data set's columns."
   ]
  },
  {
   "cell_type": "code",
   "execution_count": 2,
   "metadata": {
    "execution": {
     "iopub.execute_input": "2023-09-10T21:54:26.931337Z",
     "iopub.status.busy": "2023-09-10T21:54:26.931026Z",
     "iopub.status.idle": "2023-09-10T21:54:26.940482Z",
     "shell.execute_reply": "2023-09-10T21:54:26.939291Z",
     "shell.execute_reply.started": "2023-09-10T21:54:26.931309Z"
    }
   },
   "outputs": [
    {
     "name": "stdout",
     "output_type": "stream",
     "text": [
      "Index(['show_number', 'air_date', 'round', 'category', 'value', 'question',\n",
      "       'answer'],\n",
      "      dtype='object')\n"
     ]
    }
   ],
   "source": [
    "jeopardy.columns = [\"show_number\", \"air_date\", \"round\", \"category\", \"value\", \"question\", \"answer\"]\n",
    "print(jeopardy.columns)"
   ]
  },
  {
   "cell_type": "markdown",
   "metadata": {},
   "source": [
    "Great! Let's take a look at how much data we're working with."
   ]
  },
  {
   "cell_type": "code",
   "execution_count": 3,
   "metadata": {
    "execution": {
     "iopub.execute_input": "2023-09-10T21:54:26.941971Z",
     "iopub.status.busy": "2023-09-10T21:54:26.941634Z",
     "iopub.status.idle": "2023-09-10T21:54:26.960057Z",
     "shell.execute_reply": "2023-09-10T21:54:26.958834Z",
     "shell.execute_reply.started": "2023-09-10T21:54:26.941942Z"
    }
   },
   "outputs": [
    {
     "name": "stdout",
     "output_type": "stream",
     "text": [
      "216930\n"
     ]
    }
   ],
   "source": [
    "print(len(jeopardy))"
   ]
  },
  {
   "cell_type": "markdown",
   "metadata": {},
   "source": [
    "This data set contains 216,930 rows of data! It's quite a considerable size. Typically in Jeopardy, questions are organized into categories. Each question does indeed have an associated category that pertains to it. Let's create a variable to store each instance of a category! We'll use this later."
   ]
  },
  {
   "cell_type": "code",
   "execution_count": 4,
   "metadata": {
    "execution": {
     "iopub.execute_input": "2023-09-10T21:54:26.965187Z",
     "iopub.status.busy": "2023-09-10T21:54:26.964717Z",
     "iopub.status.idle": "2023-09-10T21:54:27.007718Z",
     "shell.execute_reply": "2023-09-10T21:54:27.005355Z",
     "shell.execute_reply.started": "2023-09-10T21:54:26.965142Z"
    }
   },
   "outputs": [
    {
     "name": "stdout",
     "output_type": "stream",
     "text": [
      "27995\n"
     ]
    }
   ],
   "source": [
    "jeopardy_categories = jeopardy.category.unique()\n",
    "\n",
    "print(len(jeopardy_categories))"
   ]
  },
  {
   "cell_type": "markdown",
   "metadata": {},
   "source": [
    "# Basic Search Functionality\n",
    "\n",
    "There are 27,995 categories with 216,930 questions spread across each of these categories! That's nearly 8 times as many questions as there are categories! With a data set as large as this, it would be useful if you could impose more filters to the questions aside from the category. We could implement basic search functionality to look for questions that match our specified words. We'll create a function, so we can reuse it as much as we'd like."
   ]
  },
  {
   "cell_type": "code",
   "execution_count": 5,
   "metadata": {
    "execution": {
     "iopub.execute_input": "2023-09-10T21:54:27.010842Z",
     "iopub.status.busy": "2023-09-10T21:54:27.009490Z",
     "iopub.status.idle": "2023-09-10T21:54:27.408108Z",
     "shell.execute_reply": "2023-09-10T21:54:27.406906Z",
     "shell.execute_reply.started": "2023-09-10T21:54:27.010799Z"
    }
   },
   "outputs": [
    {
     "name": "stdout",
     "output_type": "stream",
     "text": [
      "        show_number    air_date             round                 category  \\\n",
      "8457           6135  2011-04-22  Double Jeopardy!          FATHER'S IN LAW   \n",
      "22796          4465  2004-01-23         Jeopardy!              U.S. CITIES   \n",
      "31491          4546  2004-05-17  Double Jeopardy!            EARLY AMERICA   \n",
      "50558          5089  2006-10-26  Double Jeopardy!          COLLEGE COLLAGE   \n",
      "84717          5143  2007-01-10         Jeopardy!           MARINE BIOLOGY   \n",
      "142558         2669  1996-03-21  Double Jeopardy!                 MEDICINE   \n",
      "152072         1651  1991-11-04  Double Jeopardy!        RELIGIOUS LEADERS   \n",
      "172053         2826  1996-12-09  Double Jeopardy!  COLLEGES & UNIVERSITIES   \n",
      "196404         2958  1997-06-11  Double Jeopardy!  COLLEGES & UNIVERSITIES   \n",
      "214691         5619  2009-01-29         Jeopardy!       AMERICAN EDUCATION   \n",
      "\n",
      "        value  \\\n",
      "8457     $400   \n",
      "22796    $400   \n",
      "31491    $400   \n",
      "50558   $2000   \n",
      "84717   $1000   \n",
      "142558   $800   \n",
      "152072   $400   \n",
      "172053   $800   \n",
      "196404   $500   \n",
      "214691  $1000   \n",
      "\n",
      "                                                                                                                     question  \\\n",
      "8457               Father was quite the cutup in Prof. Charles Fried's class at this Massachusetts law school founded in 1817   \n",
      "22796                                       This Kentucky city was founded in 1775 & named for a battle site in Massachusetts   \n",
      "31491                 Harvard College was founded at Newtowne, Massachusetts in 1636; 2 years later the town was renamed this   \n",
      "50558                                                    This South Hadley, Massachusetts women's college was founded in 1837   \n",
      "84717   This Massachusetts village is home to the Marine Biological Laboratory & an oceanographic institution founded in 1930   \n",
      "142558                                          This medical magazine published in Waltham, Massachusetts was founded in 1812   \n",
      "152072                             In 1881 she founded the Massachusetts Metaphysical College, a school for Christian Science   \n",
      "172053                          In the 1850s this Massachusetts educator founded Antioch College & became its first president   \n",
      "196404                  The Robert Frost Library is at this Massachusetts college co-founded by Emily Dickinson's grandfather   \n",
      "214691                            In 1838 this Massachusetts educator founded the biweekly Common School Journal for teachers   \n",
      "\n",
      "                                     answer  \n",
      "8457                                Harvard  \n",
      "22796                             Lexington  \n",
      "31491                             Cambridge  \n",
      "50558                         Mount Holyoke  \n",
      "84717                            Woods Hole  \n",
      "142558  The New England Journal of Medicine  \n",
      "152072                      Mary Baker Eddy  \n",
      "172053                          Horace Mann  \n",
      "196404                              Amherst  \n",
      "214691                          Horace Mann  \n"
     ]
    }
   ],
   "source": [
    "\n",
    "def search_questions(terms):\n",
    "    query = lambda x: all(word.lower() in x.lower() for word in terms)\n",
    "    return jeopardy.loc[jeopardy.question.apply(query)]\n",
    "\n",
    "query1 = search_questions([\"Massachusetts\", \"founded\"])\n",
    "print(query1)"
   ]
  },
  {
   "cell_type": "markdown",
   "metadata": {},
   "source": [
    "Each question has a different value associated with it. The different values can be associated with how difficult the particular question is with higher values meaning higher difficulty. It would be useful to see the average value of your search query to get a sense of how difficult and rewarding it may be. Since we'll be working with numbers to accomplish this, we should first check if the data is in the format we need."
   ]
  },
  {
   "cell_type": "code",
   "execution_count": 6,
   "metadata": {
    "execution": {
     "iopub.execute_input": "2023-09-10T21:54:27.410519Z",
     "iopub.status.busy": "2023-09-10T21:54:27.409780Z",
     "iopub.status.idle": "2023-09-10T21:54:27.417188Z",
     "shell.execute_reply": "2023-09-10T21:54:27.415688Z",
     "shell.execute_reply.started": "2023-09-10T21:54:27.410459Z"
    }
   },
   "outputs": [
    {
     "name": "stdout",
     "output_type": "stream",
     "text": [
      "<class 'str'>\n"
     ]
    }
   ],
   "source": [
    "print(type(jeopardy.value[0]))"
   ]
  },
  {
   "cell_type": "markdown",
   "metadata": {},
   "source": [
    "# Data Transformation\n",
    "\n",
    "The code above checked the type of the first value within our DataFrame and it returned as type string. The values are formatted with '$' signs as well as commas. We need to remove these elements before we cast it to another type. There are also some values with an entry of 'None' because these are associated with the 'Final Jeopardy' round, and we'll need to account for this as well."
   ]
  },
  {
   "cell_type": "code",
   "execution_count": 7,
   "metadata": {
    "execution": {
     "iopub.execute_input": "2023-09-10T21:54:27.419604Z",
     "iopub.status.busy": "2023-09-10T21:54:27.418950Z",
     "iopub.status.idle": "2023-09-10T21:54:27.734349Z",
     "shell.execute_reply": "2023-09-10T21:54:27.733011Z",
     "shell.execute_reply.started": "2023-09-10T21:54:27.419562Z"
    }
   },
   "outputs": [
    {
     "name": "stdout",
     "output_type": "stream",
     "text": [
      "['$200' '$400' '$600' '$800' '$2,000' '$1000' '$1200' '$1600' '$2000'\n",
      " '$3,200' nan '$5,000' '$100' '$300' '$500' '$1,000' '$1,500' '$1,200'\n",
      " '$4,800' '$1,800' '$1,100' '$2,200' '$3,400' '$3,000' '$4,000' '$1,600'\n",
      " '$6,800' '$1,900' '$3,100' '$700' '$1,400' '$2,800' '$8,000' '$6,000'\n",
      " '$2,400' '$12,000' '$3,800' '$2,500' '$6,200' '$10,000' '$7,000' '$1,492'\n",
      " '$7,400' '$1,300' '$7,200' '$2,600' '$3,300' '$5,400' '$4,500' '$2,100'\n",
      " '$900' '$3,600' '$2,127' '$367' '$4,400' '$3,500' '$2,900' '$3,900'\n",
      " '$4,100' '$4,600' '$10,800' '$2,300' '$5,600' '$1,111' '$8,200' '$5,800'\n",
      " '$750' '$7,500' '$1,700' '$9,000' '$6,100' '$1,020' '$4,700' '$2,021'\n",
      " '$5,200' '$3,389' '$4,200' '$5' '$2,001' '$1,263' '$4,637' '$3,201'\n",
      " '$6,600' '$3,700' '$2,990' '$5,500' '$14,000' '$2,700' '$6,400' '$350'\n",
      " '$8,600' '$6,300' '$250' '$3,989' '$8,917' '$9,500' '$1,246' '$6,435'\n",
      " '$8,800' '$2,222' '$2,746' '$10,400' '$7,600' '$6,700' '$5,100' '$13,200'\n",
      " '$4,300' '$1,407' '$12,400' '$5,401' '$7,800' '$1,183' '$1,203' '$13,000'\n",
      " '$11,600' '$14,200' '$1,809' '$8,400' '$8,700' '$11,000' '$5,201'\n",
      " '$1,801' '$3,499' '$5,700' '$601' '$4,008' '$50' '$2,344' '$2,811'\n",
      " '$18,000' '$1,777' '$3,599' '$9,800' '$796' '$3,150' '$20' '$1,810' '$22'\n",
      " '$9,200' '$1,512' '$8,500' '$585' '$1,534' '$13,800' '$5,001' '$4,238'\n",
      " '$16,400' '$1,347' '$2547' '$11,200']\n"
     ]
    }
   ],
   "source": [
    "# The lambda function belows skips the leading '$' sign, retrieves the first digit and then removes\n",
    "# the comma within and replaces it with nothing leading to a proper format before we convert it into a floating-point number.\n",
    "# If the value is \"nan\" then it is replaced with 0.\n",
    "\n",
    "print(jeopardy.value.unique())\n",
    "\n",
    "formatter = lambda num: (float(num[1:].replace(',', ''))) if num != \"nan\" else 0\n",
    "# Convert all values to type String if they aren't already.\n",
    "jeopardy[\"value\"] = jeopardy.value.apply(lambda x: str(x))\n",
    "jeopardy[\"float_value\"] = jeopardy.value.apply(formatter)\n"
   ]
  },
  {
   "cell_type": "markdown",
   "metadata": {},
   "source": [
    "We created a new column named 'float_value' to insert our converted values into. It's best if we try not to directly modify the data itself, but rather transform it in a way that suits our needs. Let's calculate the average value of our previous query!"
   ]
  },
  {
   "cell_type": "code",
   "execution_count": 8,
   "metadata": {
    "execution": {
     "iopub.execute_input": "2023-09-10T21:54:27.737592Z",
     "iopub.status.busy": "2023-09-10T21:54:27.737188Z",
     "iopub.status.idle": "2023-09-10T21:54:28.128517Z",
     "shell.execute_reply": "2023-09-10T21:54:28.127686Z",
     "shell.execute_reply.started": "2023-09-10T21:54:27.737561Z"
    }
   },
   "outputs": [
    {
     "name": "stdout",
     "output_type": "stream",
     "text": [
      "770.0\n"
     ]
    }
   ],
   "source": [
    "query1 = search_questions([\"Massachusetts\", \"founded\"])\n",
    "print(query1.float_value.mean())"
   ]
  },
  {
   "cell_type": "markdown",
   "metadata": {},
   "source": [
    "# Jeopardy Game\n",
    "We made some pretty cool things so far. Now, let's create a way for us to play *Jeopardy* ourselves!"
   ]
  },
  {
   "cell_type": "code",
   "execution_count": 9,
   "metadata": {
    "execution": {
     "iopub.execute_input": "2023-09-10T21:54:28.130262Z",
     "iopub.status.busy": "2023-09-10T21:54:28.129783Z",
     "iopub.status.idle": "2023-09-10T21:55:32.178203Z",
     "shell.execute_reply": "2023-09-10T21:55:32.177025Z",
     "shell.execute_reply.started": "2023-09-10T21:54:28.130235Z"
    }
   },
   "outputs": [
    {
     "name": "stdout",
     "output_type": "stream",
     "text": [
      "Welcome to round 1 of Jeopardy!\n",
      "Consider riding a narrow-gauge train into a salt mine at Bex in this country's Vaud canton ($400.0)\n",
      "A: Carole King\n",
      "B: Switzerland\n",
      "C: Catnip\n",
      "D: overbook\n"
     ]
    },
    {
     "name": "stdin",
     "output_type": "stream",
     "text": [
      "What's the correct answer? Type 'A', 'B', 'C', or 'D':  b\n"
     ]
    },
    {
     "name": "stdout",
     "output_type": "stream",
     "text": [
      "Correct! You earned $400.0\n",
      "\n",
      "Welcome to round 2 of Jeopardy!\n",
      "All values are doubled!\n",
      "\"Fear is the driving force\" in this early Spielberg flick, originally made for TV ($2000.0)\n",
      "A: Margot Fonteyn\n",
      "B: Joanie Loves Chachi\n",
      "C: Duel\n",
      "D: Cattle/bulls\n"
     ]
    },
    {
     "name": "stdin",
     "output_type": "stream",
     "text": [
      "What's the correct answer? Type 'A', 'B', 'C', or 'D':  C\n"
     ]
    },
    {
     "name": "stdout",
     "output_type": "stream",
     "text": [
      "Correct! You earned $4000.0\n",
      "\n",
      "Welcome to round 3 of Jeopardy!\n",
      "This will be your final question.\n",
      "If answered correctly, its value will be triple your current earnings!\n",
      "A former Screen Actors Guild president, he's the only actor to win both comedy & drama Emmys for playing the same character ($13200.0)\n",
      "A: Liberia\n",
      "B: Amsterdam\n",
      "C: Ed Asner\n",
      "D: spurs\n"
     ]
    },
    {
     "name": "stdin",
     "output_type": "stream",
     "text": [
      "What's the correct answer? Type 'A', 'B', 'C', or 'D':  C\n"
     ]
    },
    {
     "name": "stdout",
     "output_type": "stream",
     "text": [
      "Correct!\n",
      "Congratulations! You've tripled your earnings!\n",
      "You walked away with $17600.0\n"
     ]
    }
   ],
   "source": [
    "class PlayJeopardy:\n",
    "    \"\"\"Simulates three rounds of a quiz game in which there are four total answer choices\n",
    "    and the player must guess the correct answer. The incorrect answers are pulled randomly\n",
    "    from the data, so difficulty can vary due to contextual information or relationships between the question and answers.\n",
    "    \n",
    "    TODO: I would like to further expand the class and implement a method where the player can choose a category that they would like their question to be based on.\"\"\"\n",
    "    \n",
    "    # Three variables that contain questions, answers, and values based on the Jeopardy round.\n",
    "    round1 = jeopardy[[\"question\", \"answer\", \"float_value\"]] [jeopardy[\"round\"] == \"Jeopardy!\"]\n",
    "    round2 = jeopardy[[\"question\", \"answer\", \"float_value\"]] [jeopardy[\"round\"] == \"Double Jeopardy!\"]\n",
    "    round3 = jeopardy[[\"question\", \"answer\", \"float_value\"]] [jeopardy[\"round\"] == \"Final Jeopardy!\"]\n",
    "    \n",
    "    def generate_answers(self, current_round, correct_answer):\n",
    "        # The 'abcd' variable below determines where the correct answer will be positioned.\n",
    "        # It is set to 0 for demonstrational purposes only. \n",
    "        # Use random.randint(0, 3) for proper implementation.\n",
    "        #abcd = 1\n",
    "        abcd = rndm.randint(0, 3)\n",
    "        answers = []\n",
    "            \n",
    "        for i in range(4):\n",
    "            # Correct answer is at index 0 or choice A\n",
    "            if abcd == 0:\n",
    "                if i == 0:\n",
    "                    answers.append(correct_answer)\n",
    "                    continue\n",
    "                incorrect_answer = current_round['answer'].iloc[rndm.randint(0, len(current_round))]\n",
    "                # Check for answer duplicates and if any, generate new incorrect answer\n",
    "                while incorrect_answer == answers[i - 1] or incorrect_answer == correct_answer:\n",
    "                    incorrect_answer = current_round['answer'].iloc[rndm.randint(0, len(current_round))]\n",
    "                answers.append(incorrect_answer)\n",
    "                \n",
    "            # Correct answer is at index 1 or choice B\n",
    "            elif abcd == 1:\n",
    "                if i == 1:\n",
    "                    answers.append(correct_answer)\n",
    "                    continue\n",
    "                incorrect_answer = current_round['answer'].iloc[rndm.randint(0, len(current_round))]\n",
    "                # Check if incorrect answers are the same as correct answer\n",
    "                while incorrect_answer == correct_answer:\n",
    "                    incorrect_answer = current_round['answer'].iloc[rndm.randint(0, len(current_round))]\n",
    "                if i >= 2:\n",
    "                    # Check for incorrect answer duplicates\n",
    "                    while incorrect_answer == answers[i - 1]:\n",
    "                        incorrect_answer = current_round['answer'].iloc[rndm.randint(0, len(current_round))]\n",
    "                answers.append(incorrect_answer)\n",
    "            \n",
    "            # Correct answer is at index 2 or choice C\n",
    "            elif abcd == 2:\n",
    "                if i == 2:\n",
    "                    answers.append(correct_answer)\n",
    "                    continue\n",
    "                incorrect_answer = current_round['answer'].iloc[rndm.randint(0, len(current_round))]\n",
    "                while incorrect_answer == correct_answer:\n",
    "                    incorrect_answer = current_round['answer'].iloc[rndm.randint(0, len(current_round))]\n",
    "                if i >= 1:\n",
    "                    while incorrect_answer == answers[i - 1]:\n",
    "                        incorrect_answer = current_round['answer'].iloc[rndm.randint(0, len(current_round))]\n",
    "                answers.append(incorrect_answer)\n",
    "            \n",
    "            # Correct answer is at index 3 or choice D\n",
    "            else:\n",
    "                if i == 3:\n",
    "                    answers.append(correct_answer)\n",
    "                    continue\n",
    "                incorrect_answer = current_round['answer'].iloc[rndm.randint(0, len(current_round))]\n",
    "                while incorrect_answer == correct_answer:\n",
    "                    incorrect_answer = current_round['answer'].iloc[rndm.randint(0, len(current_round))]\n",
    "                if i >= 1:\n",
    "                    while incorrect_answer == answers[i - 1]:\n",
    "                        incorrect_answer = current_round['answer'].iloc[rndm.randint(0, len(current_round))]\n",
    "                answers.append(incorrect_answer)\n",
    "                    \n",
    "                \n",
    "        print(\"A: \" + answers[0] + \"\\nB: \" + answers[1] + \"\\nC: \" + answers[2] + \"\\nD: \" + answers[3])\n",
    "        return str(abcd)\n",
    "        \n",
    "    \n",
    "    def start_game(self):\n",
    "        current_round = 1\n",
    "        current_earnings = 0.0\n",
    "        in_game = True\n",
    "        \n",
    "        while in_game:\n",
    "            if current_round == 1:\n",
    "                print(\"Welcome to round 1 of Jeopardy!\")\n",
    "                # Randomly select the first question and its associated data\n",
    "                round_details = self.round1.iloc[rndm.randint(0, len(self.round1)-1)]\n",
    "                question = round_details.question\n",
    "                answer = round_details.answer\n",
    "                value = round_details.float_value\n",
    "                print(question + \" (${})\".format(str(value)))\n",
    "\n",
    "                # Generate answer choices, output to user, and save correct choice\n",
    "                correct_choice = self.generate_answers(self.round1, answer)\n",
    "                \n",
    "            elif current_round == 2:\n",
    "                print(\"Welcome to round 2 of Jeopardy!\\nAll values are doubled!\")\n",
    "                round_details = self.round2.iloc[rndm.randint(0, len(self.round2)-1)]\n",
    "                question = round_details.question\n",
    "                answer = round_details.answer\n",
    "                value = round_details.float_value\n",
    "                print(question + \" (${})\".format(str(value)))\n",
    "                \n",
    "                correct_choice = self.generate_answers(self.round2, answer)\n",
    "            \n",
    "            else:\n",
    "                print(\"Welcome to round 3 of Jeopardy!\")\n",
    "                print(\"This will be your final question.\")\n",
    "                print(\"If answered correctly, its value will be triple your current earnings!\")\n",
    "                round_details = self.round3.iloc[rndm.randint(0, len(self.round3)-1)]\n",
    "                question = round_details.question\n",
    "                answer = round_details.answer\n",
    "                value = current_earnings\n",
    "                print(question + \" (${})\".format(str(value * 3)))\n",
    "                \n",
    "                correct_choice = self.generate_answers(self.round3, answer)\n",
    "                \n",
    "        \n",
    "            # Get player answer\n",
    "            # Player answer is set to 'B' for demonstrational purposes only.\n",
    "            #player_answer = \"B\"\n",
    "            player_answer = input(\"What's the correct answer? Type 'A', 'B', 'C', or 'D': \").upper()\n",
    "            \n",
    "            # Check for incorrect input and prompt to try again\n",
    "            checkInput = \"ABCD\"\n",
    "            while not player_answer in checkInput or len(player_answer) > 1 or \\\n",
    "            (player_answer == \"\" or player_answer.isspace()):\n",
    "                print(\"Incorrect choice. Please try again.\")\n",
    "                player_answer = input(\"What's the correct answer? Type 'A', 'B', 'C', or 'D': \").upper()\n",
    "\n",
    "            # Replaces the player's answer with the corresponding index to determine the correct answer\n",
    "            # If no instance of a letter is found in the player's answer then nothing happens which allows for this functionality\n",
    "            player_answer = player_answer.replace(\"A\", \"0\")\n",
    "            player_answer = player_answer.replace(\"B\", \"1\")\n",
    "            player_answer = player_answer.replace(\"C\", \"2\")\n",
    "            player_answer = player_answer.replace(\"D\", \"3\")\n",
    "\n",
    "            # Check if player answered correctly\n",
    "            if player_answer == correct_choice:\n",
    "                match current_round:\n",
    "                    case 1:\n",
    "                        current_earnings += value\n",
    "                        current_round += 1\n",
    "                        print(\"Correct! You earned $\" + str(value) + \"\\n\")\n",
    "                    case 2:\n",
    "                        current_earnings += value * 2\n",
    "                        current_round += 1\n",
    "                        print(\"Correct! You earned $\" + str(value*2) + \"\\n\")\n",
    "                    case 3:\n",
    "                        current_earnings += current_earnings * 3\n",
    "                        print(\"Correct!\\nCongratulations! You've tripled your earnings!\")\n",
    "                        print(\"You walked away with ${}\".format(str(current_earnings)))\n",
    "                        in_game = False\n",
    "                \n",
    "            else:\n",
    "                print(\"Incorrect. You walk away with $\" + str(current_earnings))\n",
    "                in_game = False\n",
    "        \n",
    "play_jeopardy = PlayJeopardy()\n",
    "play_jeopardy.start_game()"
   ]
  },
  {
   "cell_type": "markdown",
   "metadata": {},
   "source": [
    "# Conclusion\n",
    "\n",
    "This data set is a lot of fun to work with as you can see. It's very rich and the possibilities that you can create with it are seemingly endless. I hope you enjoyed going through this notebook as much as I did. I'll be coming back and updating the notebook as I find the time to do so. Please, if you have any suggestions, criticisms, or feedback of any kind, let me hear it! I'm always looking to improve and I would love to hear what you think! Thanks for viewing my notebook!"
   ]
  }
 ],
 "metadata": {
  "kernelspec": {
   "display_name": "Python 3 (ipykernel)",
   "language": "python",
   "name": "python3"
  },
  "language_info": {
   "codemirror_mode": {
    "name": "ipython",
    "version": 3
   },
   "file_extension": ".py",
   "mimetype": "text/x-python",
   "name": "python",
   "nbconvert_exporter": "python",
   "pygments_lexer": "ipython3",
   "version": "3.11.4"
  }
 },
 "nbformat": 4,
 "nbformat_minor": 4
}
